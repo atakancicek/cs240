{
 "cells": [
  {
   "cell_type": "code",
   "execution_count": 1,
   "metadata": {
    "collapsed": true
   },
   "outputs": [],
   "source": [
    "from __future__ import print_function, division\n",
    "\n",
    "%matplotlib inline\n",
    "\n",
    "import numpy as np\n",
    "\n",
    "import nsfg\n",
    "import first"
   ]
  },
  {
   "cell_type": "code",
   "execution_count": 2,
   "metadata": {
    "collapsed": true
   },
   "outputs": [],
   "source": [
    "pres = nsfg.ReadFemResp()"
   ]
  },
  {
   "cell_type": "code",
   "execution_count": 3,
   "metadata": {
    "collapsed": false
   },
   "outputs": [
    {
     "data": {
      "text/plain": [
       "0        NaN\n",
       "1       21.0\n",
       "2       16.0\n",
       "3        NaN\n",
       "4        NaN\n",
       "5       17.0\n",
       "6        NaN\n",
       "7        NaN\n",
       "8       18.0\n",
       "9        NaN\n",
       "10      19.0\n",
       "11      25.0\n",
       "12      23.0\n",
       "13      16.0\n",
       "14      14.0\n",
       "15       NaN\n",
       "16      17.0\n",
       "17      30.0\n",
       "18       NaN\n",
       "19      16.0\n",
       "20       NaN\n",
       "21      18.0\n",
       "22      24.0\n",
       "23      24.0\n",
       "24      27.0\n",
       "25       NaN\n",
       "26       NaN\n",
       "27      22.0\n",
       "28      19.0\n",
       "29      19.0\n",
       "        ... \n",
       "7613     NaN\n",
       "7614    23.0\n",
       "7615     NaN\n",
       "7616    19.0\n",
       "7617    23.0\n",
       "7618    26.0\n",
       "7619    27.0\n",
       "7620    24.0\n",
       "7621     NaN\n",
       "7622     NaN\n",
       "7623     NaN\n",
       "7624    23.0\n",
       "7625     NaN\n",
       "7626     NaN\n",
       "7627     NaN\n",
       "7628     NaN\n",
       "7629    21.0\n",
       "7630    37.0\n",
       "7631     NaN\n",
       "7632    25.0\n",
       "7633    20.0\n",
       "7634    21.0\n",
       "7635    17.0\n",
       "7636    18.0\n",
       "7637    21.0\n",
       "7638    18.0\n",
       "7639     NaN\n",
       "7640     NaN\n",
       "7641     NaN\n",
       "7642     NaN\n",
       "Name: fmar1age, dtype: float64"
      ]
     },
     "execution_count": 3,
     "metadata": {},
     "output_type": "execute_result"
    }
   ],
   "source": [
    "pres.fmar1age"
   ]
  },
  {
   "cell_type": "code",
   "execution_count": 4,
   "metadata": {
    "collapsed": true
   },
   "outputs": [],
   "source": [
    "first_mariage = pres.fmar1age"
   ]
  },
  {
   "cell_type": "code",
   "execution_count": 5,
   "metadata": {
    "collapsed": false
   },
   "outputs": [
    {
     "data": {
      "text/plain": [
       "22.0    381\n",
       "21.0    364\n",
       "23.0    359\n",
       "20.0    353\n",
       "18.0    342\n",
       "19.0    328\n",
       "24.0    285\n",
       "25.0    261\n",
       "26.0    233\n",
       "27.0    177\n",
       "17.0    173\n",
       "28.0    150\n",
       "29.0    129\n",
       "16.0    115\n",
       "30.0     97\n",
       "31.0     72\n",
       "32.0     52\n",
       "15.0     50\n",
       "33.0     49\n",
       "35.0     35\n",
       "34.0     29\n",
       "14.0     18\n",
       "36.0     14\n",
       "37.0     14\n",
       "39.0     10\n",
       "38.0     10\n",
       "40.0      7\n",
       "41.0      6\n",
       "13.0      3\n",
       "42.0      3\n",
       "43.0      3\n",
       "11.0      2\n",
       "9.0       1\n",
       "12.0      1\n",
       "Name: fmar1age, dtype: int64"
      ]
     },
     "execution_count": 5,
     "metadata": {},
     "output_type": "execute_result"
    }
   ],
   "source": [
    "first_mariage.value_counts()"
   ]
  },
  {
   "cell_type": "code",
   "execution_count": 6,
   "metadata": {
    "collapsed": true
   },
   "outputs": [],
   "source": [
    "import thinkstats2\n",
    "import thinkplot"
   ]
  },
  {
   "cell_type": "code",
   "execution_count": 7,
   "metadata": {
    "collapsed": false
   },
   "outputs": [
    {
     "data": {
      "image/png": "[encoded data removed]",
      "text/plain": [
       "<matplotlib.figure.Figure at 0xb6a3828>"
      ]
     },
     "metadata": {},
     "output_type": "display_data"
    }
   ],
   "source": [
    "hist = thinkstats2.Hist(first_mariage, label='FIRST MARIAGES')\n",
    "thinkplot.Hist(hist)\n",
    "thinkplot.Config(xlabel='Age', ylabel='Number of People', width=0.5)"
   ]
  },
  {
   "cell_type": "code",
   "execution_count": 8,
   "metadata": {
    "collapsed": false
   },
   "outputs": [
    {
     "data": {
      "text/plain": [
       "0       0\n",
       "1       2\n",
       "2       1\n",
       "3       0\n",
       "4       0\n",
       "5       1\n",
       "6       0\n",
       "7       0\n",
       "8       1\n",
       "9       0\n",
       "10      1\n",
       "11      1\n",
       "12      1\n",
       "13      2\n",
       "14      1\n",
       "15      0\n",
       "16      1\n",
       "17      1\n",
       "18      0\n",
       "19      1\n",
       "20      0\n",
       "21      1\n",
       "22      1\n",
       "23      1\n",
       "24      1\n",
       "25      0\n",
       "26      0\n",
       "27      1\n",
       "28      1\n",
       "29      1\n",
       "       ..\n",
       "7613    0\n",
       "7614    1\n",
       "7615    0\n",
       "7616    2\n",
       "7617    1\n",
       "7618    1\n",
       "7619    1\n",
       "7620    1\n",
       "7621    0\n",
       "7622    0\n",
       "7623    0\n",
       "7624    1\n",
       "7625    0\n",
       "7626    0\n",
       "7627    0\n",
       "7628    0\n",
       "7629    1\n",
       "7630    1\n",
       "7631    0\n",
       "7632    1\n",
       "7633    1\n",
       "7634    1\n",
       "7635    1\n",
       "7636    1\n",
       "7637    1\n",
       "7638    2\n",
       "7639    0\n",
       "7640    0\n",
       "7641    0\n",
       "7642    0\n",
       "Name: fmarno, dtype: int64"
      ]
     },
     "execution_count": 8,
     "metadata": {},
     "output_type": "execute_result"
    }
   ],
   "source": [
    "pres.fmarno"
   ]
  },
  {
   "cell_type": "code",
   "execution_count": 9,
   "metadata": {
    "collapsed": true
   },
   "outputs": [],
   "source": [
    "num_of_mariage = pres.fmarno"
   ]
  },
  {
   "cell_type": "code",
   "execution_count": 10,
   "metadata": {
    "collapsed": false
   },
   "outputs": [
    {
     "data": {
      "text/plain": [
       "0    3517\n",
       "1    3436\n",
       "2     582\n",
       "3      90\n",
       "4      15\n",
       "5       3\n",
       "Name: fmarno, dtype: int64"
      ]
     },
     "execution_count": 10,
     "metadata": {},
     "output_type": "execute_result"
    }
   ],
   "source": [
    "num_of_mariage.value_counts()"
   ]
  },
  {
   "cell_type": "code",
   "execution_count": 11,
   "metadata": {
    "collapsed": false
   },
   "outputs": [
    {
     "data": {
      "image/png": "[encoded data removed]",
      "text/plain": [
       "<matplotlib.figure.Figure at 0x1a125470>"
      ]
     },
     "metadata": {},
     "output_type": "display_data"
    }
   ],
   "source": [
    "hist = thinkstats2.Hist(num_of_mariage, label='NUMBER OF MARRIAGES')\n",
    "thinkplot.Hist(hist)\n",
    "thinkplot.Config(xlabel='Times Married', ylabel=\"Number of People\", width=0.5)"
   ]
  },
  {
   "cell_type": "code",
   "execution_count": 12,
   "metadata": {
    "collapsed": false
   },
   "outputs": [
    {
     "data": {
      "text/plain": [
       "0        9\n",
       "1       10\n",
       "2        5\n",
       "3       13\n",
       "4        6\n",
       "5        7\n",
       "6        6\n",
       "7       12\n",
       "8        6\n",
       "9       12\n",
       "10       9\n",
       "11      13\n",
       "12       7\n",
       "13       8\n",
       "14       6\n",
       "15       9\n",
       "16       5\n",
       "17       2\n",
       "18       9\n",
       "19       4\n",
       "20      12\n",
       "21      12\n",
       "22       8\n",
       "23      13\n",
       "24      10\n",
       "25       6\n",
       "26      11\n",
       "27       2\n",
       "28      11\n",
       "29       9\n",
       "        ..\n",
       "7613    13\n",
       "7614     7\n",
       "7615    14\n",
       "7616     4\n",
       "7617    12\n",
       "7618     8\n",
       "7619    14\n",
       "7620     8\n",
       "7621    11\n",
       "7622    14\n",
       "7623    14\n",
       "7624    12\n",
       "7625    14\n",
       "7626     2\n",
       "7627     3\n",
       "7628    14\n",
       "7629     4\n",
       "7630     5\n",
       "7631     1\n",
       "7632     6\n",
       "7633     9\n",
       "7634     5\n",
       "7635     8\n",
       "7636     3\n",
       "7637     8\n",
       "7638    14\n",
       "7639    14\n",
       "7640    10\n",
       "7641    13\n",
       "7642    11\n",
       "Name: totincr, dtype: int64"
      ]
     },
     "execution_count": 12,
     "metadata": {},
     "output_type": "execute_result"
    }
   ],
   "source": [
    "pres.totincr"
   ]
  },
  {
   "cell_type": "code",
   "execution_count": 13,
   "metadata": {
    "collapsed": true
   },
   "outputs": [],
   "source": [
    "total_income = pres.totincr"
   ]
  },
  {
   "cell_type": "code",
   "execution_count": 14,
   "metadata": {
    "collapsed": false
   },
   "outputs": [
    {
     "data": {
      "text/plain": [
       "14    1160\n",
       "12     658\n",
       "11     647\n",
       "13     623\n",
       "9      607\n",
       "8      606\n",
       "7      583\n",
       "6      559\n",
       "10     468\n",
       "5      445\n",
       "4      421\n",
       "2      301\n",
       "1      299\n",
       "3      266\n",
       "Name: totincr, dtype: int64"
      ]
     },
     "execution_count": 14,
     "metadata": {},
     "output_type": "execute_result"
    }
   ],
   "source": [
    "total_income.value_counts()"
   ]
  },
  {
   "cell_type": "code",
   "execution_count": 15,
   "metadata": {
    "collapsed": false
   },
   "outputs": [
    {
     "data": {
      "image/png": "[encoded data removed]",
      "text/plain": [
       "<matplotlib.figure.Figure at 0x1a36e860>"
      ]
     },
     "metadata": {},
     "output_type": "display_data"
    }
   ],
   "source": [
    "hist = thinkstats2.Hist(total_income, label='TOTAL INCOME')\n",
    "thinkplot.Hist(hist)\n",
    "thinkplot.Config(xlabel='Value', ylabel=\"Total\", width=0.5)"
   ]
  },
  {
   "cell_type": "code",
   "execution_count": 16,
   "metadata": {
    "collapsed": true
   },
   "outputs": [],
   "source": [
    "neverMarried = []\n",
    "married = []"
   ]
  },
  {
   "cell_type": "code",
   "execution_count": 17,
   "metadata": {
    "collapsed": true
   },
   "outputs": [],
   "source": [
    "for number in pres.fmarno:\n",
    "    if number == 0:\n",
    "        neverMarried.append(number)\n",
    "    else:\n",
    "        married.append(number)"
   ]
  },
  {
   "cell_type": "code",
   "execution_count": 18,
   "metadata": {
    "collapsed": false
   },
   "outputs": [
    {
     "name": "stdout",
     "output_type": "stream",
     "text": [
      "3517 people have never been married before.\n",
      "4126 people have married atleast once.\n"
     ]
    }
   ],
   "source": [
    "print (len(neverMarried), \"people have never been married before.\")\n",
    "print (len(married), \"people have married atleast once.\")"
   ]
  },
  {
   "cell_type": "code",
   "execution_count": 24,
   "metadata": {
    "collapsed": true
   },
   "outputs": [],
   "source": [
    "neverMarried = pres[pres.fmarno == 0]\n",
    "married = pres[pres.fmarno != 0]\n",
    "never_hist = thinkstats2.Hist(neverMarried.totincr, label='Never Married')\n",
    "atleast_once_hist = thinkstats2.Hist(married.totincr, label='Marriage Atleast Once')"
   ]
  },
  {
   "cell_type": "code",
   "execution_count": 27,
   "metadata": {
    "collapsed": false
   },
   "outputs": [
    {
     "data": {
      "image/png": "[encoded data removed]",
      "text/plain": [
       "<matplotlib.figure.Figure at 0x12860588>"
      ]
     },
     "metadata": {},
     "output_type": "display_data"
    }
   ],
   "source": [
    "width = 0.40\n",
    "thinkplot.PrePlot(2)\n",
    "thinkplot.Hist(never_hist, align='right', width=width)\n",
    "thinkplot.Hist(atleast_once_hist, align='left', width=width)\n",
    "thinkplot.Config(xlabel=\"Value\", ylabel='Income')"
   ]
  },
  {
   "cell_type": "code",
   "execution_count": 30,
   "metadata": {
    "collapsed": true
   },
   "outputs": [],
   "source": [
    "mean = pres.totincr.mean()\n",
    "var = pres.totincr.var()\n",
    "std = pres.totincr.std()"
   ]
  },
  {
   "cell_type": "code",
   "execution_count": 31,
   "metadata": {
    "collapsed": false
   },
   "outputs": [
    {
     "name": "stdout",
     "output_type": "stream",
     "text": [
      "The mean of the respondents' total income is 8.81669501505\n",
      "The variance respondents' total income is 15.2792710961\n",
      "The standart deviation of respondents' total income is 3.9088708211\n"
     ]
    }
   ],
   "source": [
    "print (\"The mean of the respondents' total income is\", mean)\n",
    "print (\"The variance respondents' total income is\", var)\n",
    "print (\"The standart deviation of respondents' total income is\", std)"
   ]
  },
  {
   "cell_type": "code",
   "execution_count": 36,
   "metadata": {
    "collapsed": false
   },
   "outputs": [
    {
     "name": "stdout",
     "output_type": "stream",
     "text": [
      "The Maximum value for respondents' total income is 14\n",
      "The Minimum value for respondents' total income is 1\n"
     ]
    }
   ],
   "source": [
    "print (\"The Maximum value for respondents' total income is\", max(total_income))\n",
    "print (\"The Minimum value for respondents' total income is\", min(total_income))"
   ]
  },
  {
   "cell_type": "code",
   "execution_count": null,
   "metadata": {
    "collapsed": true
   },
   "outputs": [],
   "source": []
  }
 ],
 "metadata": {
  "kernelspec": {
   "display_name": "Python 2",
   "language": "python",
   "name": "python2"
  },
  "language_info": {
   "codemirror_mode": {
    "name": "ipython",
    "version": 2
   },
   "file_extension": ".py",
   "mimetype": "text/x-python",
   "name": "python",
   "nbconvert_exporter": "python",
   "pygments_lexer": "ipython2",
   "version": "2.7.13"
  }
 },
 "nbformat": 4,
 "nbformat_minor": 2
}
